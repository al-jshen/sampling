{
 "cells": [
  {
   "cell_type": "code",
   "execution_count": 2,
   "id": "e950d0d2-46d5-450b-9a34-62b530037d11",
   "metadata": {},
   "outputs": [
    {
     "name": "stdout",
     "output_type": "stream",
     "text": [
      "env: XLA_PYTHON_CLIENT_MEM_FRACTION=0.3\n"
     ]
    }
   ],
   "source": [
    "%env XLA_PYTHON_CLIENT_MEM_FRACTION=0.3"
   ]
  },
  {
   "cell_type": "code",
   "execution_count": 3,
   "id": "979cec6a-fc2a-4cae-a90c-98548cf90a04",
   "metadata": {},
   "outputs": [],
   "source": [
    "%load_ext autoreload"
   ]
  },
  {
   "cell_type": "code",
   "execution_count": 5,
   "id": "e684b1c4-f975-4b50-8932-8eb987d3e8fa",
   "metadata": {},
   "outputs": [],
   "source": [
    "%autoreload\n",
    "\n",
    "import blackjax\n",
    "import jax\n",
    "import jax.numpy as jnp\n",
    "import matplotlib.pyplot as plt\n",
    "import numpy as np\n",
    "import numpyro\n",
    "import nux"
   ]
  },
  {
   "cell_type": "code",
   "execution_count": null,
   "id": "4e81f6ae-b036-4123-992b-aa5a3342fe31",
   "metadata": {},
   "outputs": [],
   "source": [
    "rosenbrock = lambda a, b, x, y: (a - x) ** 2 + b * (y - x**2) ** 2\n",
    "a = 1\n",
    "b = 5\n",
    "logprob = jax.jit(lambda x: rosenbrock(a, b, *x))"
   ]
  },
  {
   "cell_type": "code",
   "execution_count": null,
   "id": "ae594871-d2f3-4fc3-a822-17e20c6d734e",
   "metadata": {},
   "outputs": [],
   "source": [
    "xr = jnp.linspace(-3.0, 3.0, 100)\n",
    "yr = jnp.linspace(-3.0, 5.0, 100)\n",
    "xx, yy = jnp.meshgrid(xr, yr)\n",
    "zz = logprob((xx, yy))"
   ]
  },
  {
   "cell_type": "code",
   "execution_count": null,
   "id": "e6f05e58-d082-4f25-80b1-d96ac65967f4",
   "metadata": {},
   "outputs": [],
   "source": [
    "plt.contour(xx, yy, jnp.log(zz))"
   ]
  },
  {
   "cell_type": "code",
   "execution_count": 58,
   "id": "2850ccb6-ea77-4243-a6c6-77cace78ceeb",
   "metadata": {},
   "outputs": [],
   "source": [
    "step_size = 1e-3\n",
    "inverse_mass_matrix = jnp.array([1.0, 1.0])\n",
    "nuts = blackjax.nuts(logprob, step_size, inverse_mass_matrix)"
   ]
  },
  {
   "cell_type": "code",
   "execution_count": 59,
   "id": "0408948e-971f-46c8-886a-7ebfd9377231",
   "metadata": {},
   "outputs": [],
   "source": [
    "@jax.jit\n",
    "def step(key, state):\n",
    "    _, key = jax.random.split(key)\n",
    "    state, _ = nuts.step(key, state)\n",
    "    return key, state"
   ]
  },
  {
   "cell_type": "code",
   "execution_count": 60,
   "id": "8c004e48-44ea-485f-aff3-7bc76dbbe12d",
   "metadata": {},
   "outputs": [],
   "source": [
    "key = jax.random.PRNGKey(0)\n",
    "init_position = jnp.zeros(2)\n",
    "state = nuts.init(init_position)"
   ]
  },
  {
   "cell_type": "code",
   "execution_count": 61,
   "id": "b675d6db-55d3-417e-9cd6-2adb9f64d84a",
   "metadata": {},
   "outputs": [],
   "source": [
    "samples = []\n",
    "for i in range(100):\n",
    "    key, state = step(key, state)\n",
    "    samples.append(state.position)"
   ]
  },
  {
   "cell_type": "code",
   "execution_count": 62,
   "id": "924bdaa4-2c2b-41cf-abe1-cc8273b019c8",
   "metadata": {},
   "outputs": [
    {
     "data": {
      "text/plain": [
       "[<matplotlib.lines.Line2D at 0x150029286bf0>]"
      ]
     },
     "execution_count": 62,
     "metadata": {},
     "output_type": "execute_result"
    },
    {
     "data": {
      "image/png": "[encoded data removed]",
      "text/plain": [
       "<Figure size 640x480 with 1 Axes>"
      ]
     },
     "metadata": {},
     "output_type": "display_data"
    }
   ],
   "source": [
    "samples = jnp.stack(samples)\n",
    "plt.plot(samples[:, 0])\n",
    "plt.plot(samples[:, 1])"
   ]
  },
  {
   "cell_type": "code",
   "execution_count": null,
   "id": "46584244-0632-42a5-af6c-1e2c2d759cf2",
   "metadata": {},
   "outputs": [],
   "source": []
  }
 ],
 "metadata": {
  "kernelspec": {
   "display_name": "Python 3 (ipykernel)",
   "language": "python",
   "name": "python3"
  },
  "language_info": {
   "codemirror_mode": {
    "name": "ipython",
    "version": 3
   },
   "file_extension": ".py",
   "mimetype": "text/x-python",
   "name": "python",
   "nbconvert_exporter": "python",
   "pygments_lexer": "ipython3",
   "version": "3.10.4"
  }
 },
 "nbformat": 4,
 "nbformat_minor": 5
}
